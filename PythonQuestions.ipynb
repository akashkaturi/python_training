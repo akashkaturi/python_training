{
 "cells": [
  {
   "cell_type": "markdown",
   "metadata": {},
   "source": [
    "### Removing given character from String"
   ]
  },
  {
   "cell_type": "code",
   "execution_count": 1,
   "metadata": {},
   "outputs": [
    {
     "name": "stdout",
     "output_type": "stream",
     "text": [
      "Character entered: a\n"
     ]
    },
    {
     "data": {
      "text/plain": [
       "'My nme is Aksh'"
      ]
     },
     "execution_count": 1,
     "metadata": {},
     "output_type": "execute_result"
    }
   ],
   "source": [
    "string=\"My name is Akash\"\n",
    "char=input()\n",
    "print(f'Character entered: {char}')\n",
    "string=string.replace(char,'')\n",
    "string"
   ]
  },
  {
   "cell_type": "markdown",
   "metadata": {},
   "source": [
    "### Count given character in a string"
   ]
  },
  {
   "cell_type": "code",
   "execution_count": 2,
   "metadata": {},
   "outputs": [
    {
     "name": "stdout",
     "output_type": "stream",
     "text": [
      "Character entered: l\n",
      "3\n"
     ]
    }
   ],
   "source": [
    "string=\"Hello world\"\n",
    "char=input()\n",
    "print(f'Character entered: {char}')\n",
    "count=0\n",
    "for i in string:\n",
    "    if(i==char):\n",
    "        count+=1\n",
    "print(count)"
   ]
  },
  {
   "cell_type": "markdown",
   "metadata": {},
   "source": [
    "### To check if two strings are anagrams"
   ]
  },
  {
   "cell_type": "code",
   "execution_count": 3,
   "metadata": {},
   "outputs": [
    {
     "name": "stdout",
     "output_type": "stream",
     "text": [
      "Anagrams\n"
     ]
    }
   ],
   "source": [
    "string1=\"heart\"\n",
    "string2=\"earth\"\n",
    "if(sorted(string1)==sorted(string2)):\n",
    "    print(\"Anagrams\")\n",
    "else:\n",
    "    print(\"Not anagrams\")"
   ]
  },
  {
   "cell_type": "markdown",
   "metadata": {},
   "source": [
    "### Palindrome or Not"
   ]
  },
  {
   "cell_type": "code",
   "execution_count": 4,
   "metadata": {},
   "outputs": [
    {
     "name": "stdout",
     "output_type": "stream",
     "text": [
      "palindrome\n"
     ]
    }
   ],
   "source": [
    "string=\"radar\"\n",
    "if(string==string[::-1]):\n",
    "    print(\"palindrome\")\n",
    "else:\n",
    "    print(\"not a palindrome\")"
   ]
  },
  {
   "cell_type": "markdown",
   "metadata": {},
   "source": [
    "### Vowel or Consonant"
   ]
  },
  {
   "cell_type": "code",
   "execution_count": 7,
   "metadata": {},
   "outputs": [
    {
     "name": "stdout",
     "output_type": "stream",
     "text": [
      "Character entered: w\n",
      "consonant\n"
     ]
    }
   ],
   "source": [
    "char=input()\n",
    "print(f'Character entered: {char}')\n",
    "vowels=['a','e','i','o','u']\n",
    "if char in vowels:\n",
    "    print(\"Vowel\")\n",
    "else:\n",
    "    print(\"consonant\")"
   ]
  },
  {
   "cell_type": "markdown",
   "metadata": {},
   "source": [
    "### Digit or Not"
   ]
  },
  {
   "cell_type": "code",
   "execution_count": 8,
   "metadata": {},
   "outputs": [
    {
     "name": "stdout",
     "output_type": "stream",
     "text": [
      "Character entered: 9\n",
      "Digit\n"
     ]
    }
   ],
   "source": [
    "char=input()\n",
    "print(f'Character entered: {char}')\n",
    "if char.isdigit():\n",
    "    print(\"Digit\")\n",
    "else:\n",
    "    print(\"Not a digit\")"
   ]
  },
  {
   "cell_type": "markdown",
   "metadata": {},
   "source": [
    "### Replace the string space with a given character."
   ]
  },
  {
   "cell_type": "code",
   "execution_count": 9,
   "metadata": {},
   "outputs": [
    {
     "name": "stdout",
     "output_type": "stream",
     "text": [
      "A-quick-brown-fox-jumps-over-a-lazy-dog\n"
     ]
    }
   ],
   "source": [
    "string=\"A quick brown fox jumps over a lazy dog\"\n",
    "char='-'\n",
    "string=list(string)\n",
    "for i in range(len(string)):\n",
    "    if(string[i]==' '):\n",
    "        string[i]=char\n",
    "print(''.join(string))"
   ]
  },
  {
   "cell_type": "markdown",
   "metadata": {},
   "source": [
    "### Replace the string space with a given character using replace"
   ]
  },
  {
   "cell_type": "code",
   "execution_count": 10,
   "metadata": {},
   "outputs": [
    {
     "data": {
      "text/plain": [
       "'A-quick-brown-fox-jumps-over-a-lazy-dog'"
      ]
     },
     "execution_count": 10,
     "metadata": {},
     "output_type": "execute_result"
    }
   ],
   "source": [
    "string=\"A quick brown fox jumps over a lazy dog\"\n",
    "string=string.replace(\" \",\"-\")\n",
    "string"
   ]
  },
  {
   "cell_type": "markdown",
   "metadata": {},
   "source": [
    "### Lowercase character to Uppercase"
   ]
  },
  {
   "cell_type": "code",
   "execution_count": 11,
   "metadata": {},
   "outputs": [
    {
     "name": "stdout",
     "output_type": "stream",
     "text": [
      "AkAsh\n"
     ]
    }
   ],
   "source": [
    "string=\"akash\"\n",
    "char='a'\n",
    "string=list(string)\n",
    "for i in range(len(string)):\n",
    "    if(string[i]==char):\n",
    "        string[i]=string[i].upper()\n",
    "print(''.join(string))\n",
    "        "
   ]
  },
  {
   "cell_type": "markdown",
   "metadata": {},
   "source": [
    "### Lowercase vowel to a uppercase string"
   ]
  },
  {
   "cell_type": "code",
   "execution_count": 12,
   "metadata": {},
   "outputs": [
    {
     "name": "stdout",
     "output_type": "stream",
     "text": [
      "My nAmE Is AkAsh\n"
     ]
    }
   ],
   "source": [
    "string=\"My name is Akash\"\n",
    "string=list(string)\n",
    "vowels=\"aeiou\"\n",
    "for i in range(len(string)):\n",
    "    if(string[i] in vowels):\n",
    "        string[i]=string[i].upper()\n",
    "print(''.join(string))\n",
    "        "
   ]
  },
  {
   "cell_type": "code",
   "execution_count": 13,
   "metadata": {},
   "outputs": [
    {
     "name": "stdout",
     "output_type": "stream",
     "text": [
      "71\n"
     ]
    }
   ],
   "source": [
    "k=[1, 2, 3, 4, 5, 6, 7, 8, 9, 10, 11, 12, 13, 14, 15, 16, \n",
    "   17, 18, 19, 20, 21, 22, 23, 24, 25, 26, 27, 28, 29, 30,\n",
    "   31, 32, 33, 34, 35, 36, 37, 38, 39, 40, 41, 42, 43, 44, \n",
    "   45, 46, 47, 48, 49, 50, 51, 52, 53, 54, 55, 56, 57, 58, \n",
    "   59, 60, 61, 62, 63, 64, 65, 66, 67, 68, 69, 70, 72, \n",
    "   73, 74, 75, 76, 77, 78, 79, 80, 81, 82, 83, 84, 85, 86, \n",
    "   87, 88, 89, 90, 91, 92, 93, 94, 95, 96, 97, 98, 99, 100]\n",
    "j=[0 for i in range(1,150)]\n",
    "\n",
    "#Inserting every element inside list j\n",
    "for i in range(len(k)):\n",
    "    j[k[i]]=1\n",
    "  \n",
    "#Finding the answer by checking which element is missing  \n",
    "for i in range(1,len(j)):\n",
    "    if(j[i]==0):\n",
    "        print(i)\n",
    "        break"
   ]
  },
  {
   "cell_type": "markdown",
   "metadata": {},
   "source": [
    "### Multiple Numbers are duplicates"
   ]
  },
  {
   "cell_type": "code",
   "execution_count": 14,
   "metadata": {},
   "outputs": [
    {
     "name": "stdout",
     "output_type": "stream",
     "text": [
      "1 repeat 2 times\n",
      "2 repeat 1 times\n",
      "3 repeat 1 times\n",
      "4 repeat 2 times\n",
      "5 repeat 1 times\n",
      "6 repeat 1 times\n",
      "7 repeat 2 times\n",
      "8 repeat 2 times\n",
      "9 repeat 2 times\n",
      "10 repeat 1 times\n"
     ]
    }
   ],
   "source": [
    "k=[1,1,2,3,4,4,5,6,7,7,8,8,9,9,10]\n",
    "dict={}\n",
    "for i in k:\n",
    "    try:\n",
    "        dict[i]+=1\n",
    "    except:\n",
    "        dict[i]=1\n",
    "for i,j in dict.items():\n",
    "    print(f'{i} repeat {j} times')\n"
   ]
  },
  {
   "cell_type": "markdown",
   "metadata": {},
   "source": [
    "### Find a pair whose sum is equal to given Number"
   ]
  },
  {
   "cell_type": "code",
   "execution_count": 15,
   "metadata": {},
   "outputs": [
    {
     "name": "stdout",
     "output_type": "stream",
     "text": [
      "6 4\n",
      "7 3\n",
      "8 2\n",
      "9 1\n"
     ]
    }
   ],
   "source": [
    "a=[1,2,3,4,5,6,7,8,10,9]\n",
    "target=10\n",
    "d={}\n",
    "for i in range(len(a)):\n",
    "    if target-a[i] in d:\n",
    "        print(a[i],a[d.get(target-a[i])])\n",
    "    else:\n",
    "        d[a[i]]=i\n",
    "\n"
   ]
  },
  {
   "cell_type": "markdown",
   "metadata": {},
   "source": [
    "### Two arrays equal in size or not"
   ]
  },
  {
   "cell_type": "code",
   "execution_count": 16,
   "metadata": {},
   "outputs": [
    {
     "name": "stdout",
     "output_type": "stream",
     "text": [
      "equal in size\n"
     ]
    }
   ],
   "source": [
    "a=[1,2,3]\n",
    "b=[2,3,4]\n",
    "if(len(a)==len(b)):\n",
    "    print(\"equal in size\")\n",
    "else:\n",
    "    print(\"Not equal in size\")"
   ]
  },
  {
   "cell_type": "markdown",
   "metadata": {},
   "source": [
    "### Largest and smallest elements"
   ]
  },
  {
   "cell_type": "code",
   "execution_count": 17,
   "metadata": {},
   "outputs": [
    {
     "name": "stdout",
     "output_type": "stream",
     "text": [
      "Largest Number is: 6 and smallest number is 1\n"
     ]
    }
   ],
   "source": [
    "a=[1,2,3,4,5,6]\n",
    "largest=max(a)\n",
    "smallest=min(a)\n",
    "print(f'Largest Number is: {largest} and smallest number is {smallest}')"
   ]
  },
  {
   "cell_type": "markdown",
   "metadata": {},
   "source": [
    "### Second Highest Number"
   ]
  },
  {
   "cell_type": "code",
   "execution_count": 18,
   "metadata": {},
   "outputs": [
    {
     "name": "stdout",
     "output_type": "stream",
     "text": [
      "9\n",
      "9\n"
     ]
    }
   ],
   "source": [
    "def method1(a):\n",
    "    largest=max(a)\n",
    "    second=-1\n",
    "    for i in a:\n",
    "        if(i!=largest):\n",
    "            second=max(i,second)\n",
    "    return second\n",
    "def method2(a):\n",
    "    a.sort()\n",
    "    a=a[::-1]\n",
    "    return a[1]\n",
    "    \n",
    "a=[2,1,3,7,5,4,20,9,8]\n",
    "\n",
    "print(method1(a))\n",
    "print(method2(a))\n"
   ]
  },
  {
   "cell_type": "markdown",
   "metadata": {},
   "source": [
    "### Top 2 Maximum numbers"
   ]
  },
  {
   "cell_type": "code",
   "execution_count": 19,
   "metadata": {},
   "outputs": [
    {
     "name": "stdout",
     "output_type": "stream",
     "text": [
      "[8, 7]\n"
     ]
    }
   ],
   "source": [
    "def method2(a):\n",
    "    a.sort()\n",
    "    a=a[::-1]\n",
    "    return [a[0],a[1]]\n",
    "a=[1,2,5,6,7,8,3,4,6]\n",
    "print(method2(a))\n"
   ]
  },
  {
   "cell_type": "markdown",
   "metadata": {},
   "source": [
    "### Remove Duplicates from an array"
   ]
  },
  {
   "cell_type": "code",
   "execution_count": 20,
   "metadata": {},
   "outputs": [
    {
     "name": "stdout",
     "output_type": "stream",
     "text": [
      "[1, 2, 3, 4, 5, 6, 10, 4, 5, 5, 6, 6, 10]\n"
     ]
    }
   ],
   "source": [
    "def removeDuplicates(a, n):\n",
    "    if n == 0 or n == 1:\n",
    "        return n\n",
    "    a.sort()\n",
    "    j = 1\n",
    "    for i in range(1, n):\n",
    "        if a[i] != a[i-1]:\n",
    "            a[j] = a[i]\n",
    "            j += 1\n",
    "    return a\n",
    "a=[1,2,3,4,5,6,6,5,4,3,2,1,10]\n",
    "print(removeDuplicates(a,len(a)))\n"
   ]
  },
  {
   "cell_type": "markdown",
   "metadata": {},
   "source": [
    "### Array In reverse order"
   ]
  },
  {
   "cell_type": "code",
   "execution_count": 21,
   "metadata": {},
   "outputs": [
    {
     "name": "stdout",
     "output_type": "stream",
     "text": [
      "[6, 5, 4, 3, 2, 1]\n"
     ]
    }
   ],
   "source": [
    "a=[1,2,3,4,5,6]\n",
    "print(a[::-1])"
   ]
  },
  {
   "cell_type": "markdown",
   "metadata": {},
   "source": [
    "### Insert an element at the end of an array"
   ]
  },
  {
   "cell_type": "code",
   "execution_count": 22,
   "metadata": {},
   "outputs": [
    {
     "name": "stdout",
     "output_type": "stream",
     "text": [
      "[1, 2, 3, 10]\n"
     ]
    }
   ],
   "source": [
    "a=[1,2,3]\n",
    "a.append(10)\n",
    "print(a)"
   ]
  },
  {
   "cell_type": "markdown",
   "metadata": {},
   "source": [
    "### Calculate length of an array"
   ]
  },
  {
   "cell_type": "code",
   "execution_count": 23,
   "metadata": {},
   "outputs": [
    {
     "name": "stdout",
     "output_type": "stream",
     "text": [
      "5\n"
     ]
    }
   ],
   "source": [
    "a=[1,2,3,4,5]\n",
    "print(len(a))"
   ]
  },
  {
   "cell_type": "markdown",
   "metadata": {},
   "source": []
  }
 ],
 "metadata": {
  "kernelspec": {
   "display_name": "Python 3.10.4 64-bit",
   "language": "python",
   "name": "python3"
  },
  "language_info": {
   "codemirror_mode": {
    "name": "ipython",
    "version": 3
   },
   "file_extension": ".py",
   "mimetype": "text/x-python",
   "name": "python",
   "nbconvert_exporter": "python",
   "pygments_lexer": "ipython3",
   "version": "3.10.4"
  },
  "orig_nbformat": 4,
  "vscode": {
   "interpreter": {
    "hash": "aee8b7b246df8f9039afb4144a1f6fd8d2ca17a180786b69acc140d282b71a49"
   }
  }
 },
 "nbformat": 4,
 "nbformat_minor": 2
}
